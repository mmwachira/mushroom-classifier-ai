{
 "cells": [
  {
   "cell_type": "code",
   "execution_count": null,
   "metadata": {
    "id": "VmI7kSZgMNfM"
   },
   "outputs": [],
   "source": [
    "import numpy as np \n",
    "import pandas as pd \n",
    "import seaborn as sns \n",
    "import matplotlib.pyplot as plt \n",
    "import os\n",
    "import graphviz\n",
    "from sklearn.model_selection import train_test_split\n",
    "from sklearn.preprocessing import LabelEncoder\n",
    "from sklearn.tree import DecisionTreeClassifier, export_graphviz\n",
    "from sklearn.metrics import classification_report, confusion_matrix, precision_recall_curve, auc, roc_curve\n",
    "\n"
   ]
  },
  {
   "cell_type": "code",
   "execution_count": null,
   "metadata": {
    "id": "mj6TwVCHMSGm"
   },
   "outputs": [],
   "source": [
    "df = pd.read_csv(r\"C:\\Users\\mwach\\OneDrive\\Desktop\\Class\\3rd Year\\Artificial Intelligence\\GroupAssignment2\\mushrooms.csv\")"
   ]
  },
  {
   "cell_type": "code",
   "execution_count": null,
   "metadata": {
    "colab": {
     "base_uri": "https://localhost:8080/",
     "height": 275
    },
    "id": "BDKkjIQRM-qv",
    "outputId": "40654f91-f6ab-4dee-e871-0b19f6617646"
   },
   "outputs": [],
   "source": [
    "df.head()"
   ]
  },
  {
   "cell_type": "code",
   "execution_count": null,
   "metadata": {},
   "outputs": [],
   "source": [
    "df[\"stalk-root\"].hist();"
   ]
  },
  {
   "cell_type": "code",
   "execution_count": null,
   "metadata": {},
   "outputs": [],
   "source": [
    "# import matplotlib.pyplot as plt\n",
    "\n",
    "# fig,axes = plt.subplots(4,2,figsize=(12,15))\n",
    "# for idx,cat_col in enumerate(df[\"stalk-root\"]):\n",
    "#     row,col = idx//2,idx%2\n",
    "#     sns.countplot(x=cat_col,data=df[\"stalk-root\"],ax=axes[row,col])\n",
    "\n",
    "\n",
    "# plt.subplots_adjust(hspace=1)"
   ]
  },
  {
   "cell_type": "code",
   "execution_count": null,
   "metadata": {},
   "outputs": [],
   "source": [
    "df[\"stalk-root\"].unique()"
   ]
  },
  {
   "cell_type": "code",
   "execution_count": null,
   "metadata": {},
   "outputs": [],
   "source": [
    "df[\"stalk-shape\"].value_counts()"
   ]
  },
  {
   "cell_type": "code",
   "execution_count": null,
   "metadata": {},
   "outputs": [],
   "source": []
  },
  {
   "cell_type": "code",
   "execution_count": null,
   "metadata": {},
   "outputs": [],
   "source": [
    "# e=equal    1120 \n",
    "# c=club     556\n",
    "# b=bulbous  3776\n",
    "# r=rooted   192\n",
    "# ?= missing  2480"
   ]
  },
  {
   "cell_type": "code",
   "execution_count": null,
   "metadata": {},
   "outputs": [],
   "source": [
    "# print(\"stalk-root bulbous=b,club=c,cup=u,equal=e,rhizomorphs=z,rooted=r,missing=?\")\n",
    "df['gill-size'].value_counts()"
   ]
  },
  {
   "cell_type": "code",
   "execution_count": null,
   "metadata": {},
   "outputs": [],
   "source": [
    "df[\"stalk-shape\"].value_counts()"
   ]
  },
  {
   "cell_type": "code",
   "execution_count": null,
   "metadata": {},
   "outputs": [],
   "source": []
  },
  {
   "cell_type": "code",
   "execution_count": null,
   "metadata": {
    "colab": {
     "base_uri": "https://localhost:8080/"
    },
    "id": "4Fa4j3lRMdQ0",
    "outputId": "23c0d203-6d18-47f5-ce6a-74dd7da6ef2c"
   },
   "outputs": [],
   "source": [
    "df.info()"
   ]
  },
  {
   "cell_type": "code",
   "execution_count": null,
   "metadata": {
    "colab": {
     "base_uri": "https://localhost:8080/",
     "height": 244
    },
    "id": "Gg7NTf4GNKIl",
    "outputId": "ae4ad957-01f3-41ee-b551-079b59b539da"
   },
   "outputs": [],
   "source": [
    "df.describe()"
   ]
  },
  {
   "cell_type": "code",
   "execution_count": null,
   "metadata": {
    "colab": {
     "base_uri": "https://localhost:8080/"
    },
    "id": "7iR8f1NYNNi4",
    "outputId": "36ce5e94-3699-441f-e377-e44ffc562c1b"
   },
   "outputs": [],
   "source": [
    "df.shape"
   ]
  },
  {
   "cell_type": "code",
   "execution_count": null,
   "metadata": {
    "colab": {
     "base_uri": "https://localhost:8080/"
    },
    "id": "xtU96I2yNc1I",
    "outputId": "b9c0862b-c9c1-4a68-e6cd-333396a0e35b"
   },
   "outputs": [],
   "source": [
    "df[\"class\"].unique()"
   ]
  },
  {
   "cell_type": "code",
   "execution_count": null,
   "metadata": {
    "colab": {
     "base_uri": "https://localhost:8080/"
    },
    "id": "xlEewvtKNkAk",
    "outputId": "090b33bb-949a-41b5-9ebe-9c48fae32603"
   },
   "outputs": [],
   "source": [
    "df[\"class\"].value_counts()"
   ]
  },
  {
   "cell_type": "code",
   "execution_count": null,
   "metadata": {
    "colab": {
     "base_uri": "https://localhost:8080/",
     "height": 282
    },
    "id": "DS4IjT3rOGzB",
    "outputId": "b1f2ead2-840f-4434-f0b2-e707cc9736f6"
   },
   "outputs": [],
   "source": [
    "df['class'].hist()"
   ]
  },
  {
   "cell_type": "code",
   "execution_count": null,
   "metadata": {},
   "outputs": [],
   "source": [
    "df['gill-size'].value_counts()"
   ]
  },
  {
   "cell_type": "code",
   "execution_count": null,
   "metadata": {
    "id": "ya_pyMzWO3vu"
   },
   "outputs": [],
   "source": [
    "#encoding the categorical columns\n",
    "labelencoder=LabelEncoder()\n",
    "for column in df.columns:\n",
    "    df[column] = labelencoder.fit_transform(df[column])"
   ]
  },
  {
   "cell_type": "code",
   "execution_count": null,
   "metadata": {},
   "outputs": [],
   "source": [
    "df[\"stalk-shape\"].value_counts()"
   ]
  },
  {
   "cell_type": "code",
   "execution_count": null,
   "metadata": {},
   "outputs": [],
   "source": [
    "df['gill-size'].value_counts()"
   ]
  },
  {
   "cell_type": "code",
   "execution_count": null,
   "metadata": {},
   "outputs": [],
   "source": []
  },
  {
   "cell_type": "code",
   "execution_count": null,
   "metadata": {
    "colab": {
     "base_uri": "https://localhost:8080/",
     "height": 275
    },
    "id": "35qqhjsHQxgK",
    "outputId": "55751534-f056-4c1f-b25b-7b7209d8b99e"
   },
   "outputs": [],
   "source": [
    "df.head()"
   ]
  },
  {
   "cell_type": "code",
   "execution_count": null,
   "metadata": {
    "colab": {
     "base_uri": "https://localhost:8080/"
    },
    "id": "vIITkyoUQ3T8",
    "outputId": "fee70654-97ec-4818-b551-e37c87f03fc9"
   },
   "outputs": [],
   "source": [
    "df[\"stalk-root\"].value_counts()"
   ]
  },
  {
   "cell_type": "code",
   "execution_count": null,
   "metadata": {
    "colab": {
     "base_uri": "https://localhost:8080/",
     "height": 500
    },
    "id": "hK300V5jRBIB",
    "outputId": "0e56bdb7-3c5c-42bc-8d93-7e71d77987fe"
   },
   "outputs": [],
   "source": [
    "df_div = pd.melt(df, \"class\", var_name= \"Characteristics\")  \n",
    "fig, ax = plt.subplots(figsize=(16,6))\n",
    "\n",
    "p = sns.violinplot(ax = ax,\n",
    "                   x=\"Characteristics\",\n",
    "                   y=\"value\",\n",
    "                   hue=\"class\",\n",
    "                   split = True,\n",
    "                   data=df_div,\n",
    "                   inner = \"quartile\",\n",
    "                   palette = \"Set1\")\n",
    "\n",
    "df_no_class = df.drop([\"class\"],axis = 1)\n",
    "\n",
    "p.set_xticklabels(rotation = 90, labels = list(df_no_class.columns));\n",
    "#plt.savefig(“violinplot.png”, format=’png’, dpi=500, bbox_inches=’tight’)\n",
    "\n"
   ]
  },
  {
   "cell_type": "code",
   "execution_count": null,
   "metadata": {
    "colab": {
     "base_uri": "https://localhost:8080/",
     "height": 816
    },
    "id": "FUKeaxjrRlIj",
    "outputId": "74f6b4f8-90f3-433b-ebae-56bdb1336518"
   },
   "outputs": [],
   "source": [
    "plt.figure(figsize=(14,12))\n",
    "sns.heatmap(df.corr(),linewidths=.1,cmap=\"Purples\", annot=True, annot_kws={\"size\": 7})\n",
    "plt.yticks(rotation=0);\n",
    "#plt.savefig(\"corr.png\", format='png', dpi=400, bbox_inches='tight')"
   ]
  },
  {
   "cell_type": "code",
   "execution_count": null,
   "metadata": {
    "colab": {
     "base_uri": "https://localhost:8080/",
     "height": 421
    },
    "id": "apyJTy70kYDa",
    "outputId": "ceb6edc3-8f36-44fd-c9c4-4e6f321b63ef"
   },
   "outputs": [],
   "source": [
    "df[['class', 'gill-color']].groupby(['gill-color'], as_index=False).mean().sort_values(by='class', ascending=False)"
   ]
  },
  {
   "cell_type": "markdown",
   "metadata": {
    "id": "O-tZTzSAN51D"
   },
   "source": [
    "Preparing the data"
   ]
  },
  {
   "cell_type": "code",
   "execution_count": null,
   "metadata": {},
   "outputs": [],
   "source": [
    "df[\"stalk-root\"].value_counts()"
   ]
  },
  {
   "cell_type": "code",
   "execution_count": null,
   "metadata": {},
   "outputs": [],
   "source": [
    "# e=equal    1120 \n",
    "# c=club     556\n",
    "# b=bulbous  3776 \n",
    "# r=rooted   192\n",
    "# ?= missing  2480\n",
    "\n",
    "# 0= missing\n",
    "# 1=bulbous\n",
    "# 2=club\n",
    "# 3=equal\n",
    "# 4=rooted"
   ]
  },
  {
   "cell_type": "code",
   "execution_count": null,
   "metadata": {
    "id": "piOKOQ4HoLFB"
   },
   "outputs": [],
   "source": [
    "X = df.drop(['class'], axis=1)\n",
    "y = df[\"class\"]\n",
    "\n",
    "X_train, X_test, y_train, y_test = train_test_split(X, y, random_state=42, test_size=0.1)"
   ]
  },
  {
   "cell_type": "code",
   "execution_count": null,
   "metadata": {},
   "outputs": [],
   "source": [
    "X_train.head()"
   ]
  },
  {
   "cell_type": "raw",
   "metadata": {},
   "source": []
  },
  {
   "cell_type": "markdown",
   "metadata": {
    "id": "N5pVHCJ1ccU6"
   },
   "source": [
    "Classification Methods"
   ]
  },
  {
   "cell_type": "code",
   "execution_count": null,
   "metadata": {
    "colab": {
     "base_uri": "https://localhost:8080/"
    },
    "id": "8dryKxmvN8rr",
    "outputId": "46c2c152-5cdc-4715-b233-2186b05c9bad"
   },
   "outputs": [],
   "source": [
    "# 1. Decision Tree Classification\n",
    "from sklearn.tree import DecisionTreeClassifier\n",
    "dt = DecisionTreeClassifier()\n",
    "dt.fit(X_train, y_train)"
   ]
  },
  {
   "cell_type": "code",
   "execution_count": null,
   "metadata": {
    "colab": {
     "base_uri": "https://localhost:8080/",
     "height": 458
    },
    "id": "Va0Rby0CgCuu",
    "outputId": "60e56446-24d2-4ac2-e934-14dfa2cf275e"
   },
   "outputs": [],
   "source": [
    "features_list = X.columns.values\n",
    "feature_importance = dt.feature_importances_\n",
    "sorted_idx = np.argsort(feature_importance)\n",
    "plt.figure(figsize=(8,7))\n",
    "\n",
    "\n",
    "plt.barh(range(len(sorted_idx)), feature_importance[sorted_idx], align='center', color =\"red\")\n",
    "plt.yticks(range(len(sorted_idx)), features_list[sorted_idx])\n",
    "plt.xlabel('Importance')\n",
    "plt.title('Feature importance')\n",
    "plt.draw()\n",
    "#plt.savefig(\"featureimp.png\", format='png', dpi=500, bbox_inches='tight')\n",
    "plt.show()"
   ]
  },
  {
   "cell_type": "markdown",
   "metadata": {
    "id": "_nNwVXiliQtZ"
   },
   "source": [
    "Predicting and estimating the result"
   ]
  },
  {
   "cell_type": "code",
   "execution_count": null,
   "metadata": {
    "colab": {
     "base_uri": "https://localhost:8080/"
    },
    "id": "ru5WOOaihor8",
    "outputId": "d84c2e43-03f7-483a-b482-a8c837be78ef"
   },
   "outputs": [],
   "source": [
    "y_pred_dt = dt.predict(X_test)\n",
    "print(\"Decision Tree Classifier report: \\n\\n\", classification_report(y_test, y_pred_dt))\n",
    "print(\"Test Accuracy: {}%\".format(round(dt.score(X_test, y_test)*100, 2)))"
   ]
  },
  {
   "cell_type": "markdown",
   "metadata": {
    "id": "dAzczCyEijux"
   },
   "source": [
    "**Confusion Matrix for Decision Tree Classifier**"
   ]
  },
  {
   "cell_type": "code",
   "execution_count": null,
   "metadata": {
    "colab": {
     "base_uri": "https://localhost:8080/",
     "height": 458
    },
    "id": "WI0dYK7xiSOb",
    "outputId": "561d4d09-cf0d-421d-da98-400ca52626fd"
   },
   "outputs": [],
   "source": [
    "cm = confusion_matrix(y_test, y_pred_dt)\n",
    "\n",
    "x_axis_labels = [\"Edible\", \"Poisonous\"]\n",
    "y_axis_labels = [\"Edible\", \"Poisonous\"]\n",
    "\n",
    "f, ax = plt.subplots(figsize =(7,7))\n",
    "sns.heatmap(cm, annot = True, linewidths=0.2, linecolor=\"black\", fmt = \".0f\", ax=ax, cmap=\"Purples\", xticklabels=x_axis_labels, yticklabels=y_axis_labels)\n",
    "plt.xlabel(\"PREDICTED LABEL\")\n",
    "plt.ylabel(\"TRUE LABEL\")\n",
    "plt.title('Confusion Matrix for Decision Tree Classifier')\n",
    "#plt.savefig(\"dtcm.png\", format='png', dpi=500, bbox_inches='tight')\n",
    "plt.show()"
   ]
  },
  {
   "cell_type": "code",
   "execution_count": null,
   "metadata": {
    "colab": {
     "base_uri": "https://localhost:8080/"
    },
    "id": "bUzUx0XUmGqL",
    "outputId": "bd644dcd-4fc8-4a1a-cfa1-79d12f2ee51a"
   },
   "outputs": [],
   "source": [
    "#KNN CLASSIFICATION\n",
    "from sklearn.neighbors import KNeighborsClassifier\n",
    "best_Kvalue = 0\n",
    "best_score = 0\n",
    "for i in range(1,10):\n",
    "    knn = KNeighborsClassifier(n_neighbors=i)\n",
    "    knn.fit(X_train, y_train)\n",
    "    if knn.score(X_test, y_test) > best_score:\n",
    "        best_score = knn.score(X_train, y_train)\n",
    "        best_Kvalue = i\n",
    "        \n",
    "print(\"Best KNN Value: {}\".format(best_Kvalue))\n",
    "print(\"Test Accuracy: {}%\".format(round(best_score*100,2)))"
   ]
  },
  {
   "cell_type": "markdown",
   "metadata": {
    "id": "735eKhk0sXQC"
   },
   "source": [
    "Classification report of KNN Classifier"
   ]
  },
  {
   "cell_type": "code",
   "execution_count": null,
   "metadata": {
    "colab": {
     "base_uri": "https://localhost:8080/"
    },
    "id": "_UW_79VMmGtw",
    "outputId": "8ba568f8-42fc-4eab-b963-76afef5cc18c"
   },
   "outputs": [],
   "source": [
    "y_pred_knn = knn.predict(X_test)\n",
    "print(\"KNN Classifier report: \\n\\n\", classification_report(y_test, y_pred_knn))"
   ]
  },
  {
   "cell_type": "code",
   "execution_count": null,
   "metadata": {
    "colab": {
     "base_uri": "https://localhost:8080/",
     "height": 458
    },
    "id": "0NskMZVHrsLF",
    "outputId": "3dc2f6b9-5905-464f-e6d2-949b22c0504f"
   },
   "outputs": [],
   "source": [
    "# Confusion Matrix for KNN Classifier\n",
    "\n",
    "cm = confusion_matrix(y_test, y_pred_knn)\n",
    "x_axis_labels = [\"Edible\", \"Poisonous\"]\n",
    "y_axis_labels = [\"Edible\", \"Poisonous\"]\n",
    "f, ax = plt.subplots(figsize =(7,7))\n",
    "sns.heatmap(cm, annot = True, linewidths=0.2, linecolor=\"black\", fmt = \".0f\", ax=ax, cmap=\"Purples\", xticklabels=x_axis_labels, yticklabels=y_axis_labels)\n",
    "plt.xlabel(\"PREDICTED LABEL\")\n",
    "plt.ylabel(\"TRUE LABEL\")\n",
    "plt.title('Confusion Matrix for KNN Classifier')\n",
    "#plt.savefig(\"knncm.png\", format='png', dpi=500, bbox_inches='tight')\n",
    "plt.show()"
   ]
  },
  {
   "cell_type": "code",
   "execution_count": null,
   "metadata": {
    "colab": {
     "base_uri": "https://localhost:8080/"
    },
    "id": "scQR0C4rt29x",
    "outputId": "6c39975e-0e08-4df8-c16b-65f563827062"
   },
   "outputs": [],
   "source": [
    "preds = dt.predict(X_test)\n",
    "print(preds[:36])\n",
    "print(y_test[:36].values)"
   ]
  },
  {
   "cell_type": "code",
   "execution_count": null,
   "metadata": {},
   "outputs": [],
   "source": [
    "X = df[['gill-color', 'spore-print-color', 'population','gill-size', 'stalk-root','bruises','stalk-shape']]\n",
    "y = df[\"class\"]\n",
    "\n",
    "X_train, X_test, y_train, y_test = train_test_split(X, y, random_state=42, test_size=0.1)"
   ]
  },
  {
   "cell_type": "code",
   "execution_count": null,
   "metadata": {},
   "outputs": [],
   "source": [
    "import matplotlib.pyplot as plt\n",
    "\n",
    "fig,axes = plt.subplots(4,2,figsize=(12,15))\n",
    "for idx,cat_col in enumerate(X):\n",
    "    row,col = idx//2,idx%2\n",
    "    sns.countplot(x=cat_col,data=X,ax=axes[row,col])\n",
    "\n",
    "\n",
    "plt.subplots_adjust(hspace=1)"
   ]
  },
  {
   "cell_type": "code",
   "execution_count": null,
   "metadata": {},
   "outputs": [],
   "source": []
  },
  {
   "cell_type": "code",
   "execution_count": null,
   "metadata": {},
   "outputs": [],
   "source": [
    "X['gill-color'].value_counts()"
   ]
  },
  {
   "cell_type": "code",
   "execution_count": null,
   "metadata": {},
   "outputs": [],
   "source": []
  },
  {
   "cell_type": "code",
   "execution_count": null,
   "metadata": {},
   "outputs": [],
   "source": []
  },
  {
   "cell_type": "code",
   "execution_count": null,
   "metadata": {},
   "outputs": [],
   "source": [
    "# 1. Decision Tree Classification\n",
    "from sklearn.tree import DecisionTreeClassifier\n",
    "dt1 = DecisionTreeClassifier()\n",
    "dt1.fit(X_train, y_train)"
   ]
  },
  {
   "cell_type": "code",
   "execution_count": null,
   "metadata": {},
   "outputs": [],
   "source": [
    "dt1"
   ]
  },
  {
   "cell_type": "code",
   "execution_count": null,
   "metadata": {},
   "outputs": [],
   "source": [
    "# save the model to disk\n",
    "\n",
    "import pickle\n",
    "filename = 'decision_tree.pkl'\n",
    "pickle.dump(dt1, open(filename, 'wb'))"
   ]
  },
  {
   "cell_type": "code",
   "execution_count": null,
   "metadata": {},
   "outputs": [],
   "source": [
    "loaded_dt1_model=pickle.load(open(filename, 'rb'))"
   ]
  },
  {
   "cell_type": "code",
   "execution_count": null,
   "metadata": {},
   "outputs": [],
   "source": [
    "loaded_dt1_model.predict(X_test.iloc[8:9])"
   ]
  },
  {
   "cell_type": "code",
   "execution_count": null,
   "metadata": {},
   "outputs": [],
   "source": [
    "y_test.iloc[8:9]"
   ]
  },
  {
   "cell_type": "code",
   "execution_count": null,
   "metadata": {},
   "outputs": [],
   "source": [
    "X_test.iloc[8:9]"
   ]
  },
  {
   "cell_type": "code",
   "execution_count": null,
   "metadata": {},
   "outputs": [],
   "source": [
    "X_test"
   ]
  },
  {
   "cell_type": "code",
   "execution_count": null,
   "metadata": {},
   "outputs": [],
   "source": [
    "X_train.head()"
   ]
  },
  {
   "cell_type": "code",
   "execution_count": null,
   "metadata": {},
   "outputs": [],
   "source": [
    "X_train[\"gill-color\"].value_counts()"
   ]
  },
  {
   "cell_type": "code",
   "execution_count": null,
   "metadata": {},
   "outputs": [],
   "source": [
    "df[\"gill-color\"].value_counts()"
   ]
  },
  {
   "cell_type": "code",
   "execution_count": null,
   "metadata": {},
   "outputs": [],
   "source": [
    "# input from page # Your mushroom is ['k', 'b', 'c', 'n', '2', 'f', 'e']\n",
    "\n",
    "# gill_color,spore_print_color,population,gill_size,stalk_root,bruises,stalk_shape"
   ]
  },
  {
   "cell_type": "code",
   "execution_count": null,
   "metadata": {},
   "outputs": [],
   "source": [
    "df[\"gill-color\"].index"
   ]
  },
  {
   "cell_type": "code",
   "execution_count": null,
   "metadata": {},
   "outputs": [],
   "source": [
    "X_train[\"gill-color\"].value_counts()"
   ]
  },
  {
   "cell_type": "code",
   "execution_count": null,
   "metadata": {},
   "outputs": [],
   "source": []
  },
  {
   "cell_type": "code",
   "execution_count": null,
   "metadata": {},
   "outputs": [],
   "source": []
  },
  {
   "cell_type": "code",
   "execution_count": null,
   "metadata": {},
   "outputs": [],
   "source": []
  },
  {
   "cell_type": "code",
   "execution_count": null,
   "metadata": {},
   "outputs": [],
   "source": []
  },
  {
   "cell_type": "code",
   "execution_count": null,
   "metadata": {},
   "outputs": [],
   "source": []
  }
 ],
 "metadata": {
  "accelerator": "GPU",
  "colab": {
   "name": "mushroom_classification.ipynb",
   "provenance": []
  },
  "kernelspec": {
   "display_name": "Python 3 (ipykernel)",
   "language": "python",
   "name": "python3"
  },
  "language_info": {
   "codemirror_mode": {
    "name": "ipython",
    "version": 3
   },
   "file_extension": ".py",
   "mimetype": "text/x-python",
   "name": "python",
   "nbconvert_exporter": "python",
   "pygments_lexer": "ipython3",
   "version": "3.9.13"
  }
 },
 "nbformat": 4,
 "nbformat_minor": 1
}
